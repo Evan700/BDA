{
  "nbformat": 4,
  "nbformat_minor": 0,
  "metadata": {
    "colab": {
      "provenance": [],
      "authorship_tag": "ABX9TyOWI8j56R4N7InuyiO6mWgB",
      "include_colab_link": true
    },
    "kernelspec": {
      "name": "python3",
      "display_name": "Python 3"
    },
    "language_info": {
      "name": "python"
    }
  },
  "cells": [
    {
      "cell_type": "markdown",
      "metadata": {
        "id": "view-in-github",
        "colab_type": "text"
      },
      "source": [
        "<a href=\"https://colab.research.google.com/github/Evan700/BDA/blob/main/ICB1.ipynb\" target=\"_parent\"><img src=\"https://colab.research.google.com/assets/colab-badge.svg\" alt=\"Open In Colab\"/></a>"
      ]
    },
    {
      "cell_type": "markdown",
      "source": [
        "Evan Finger"
      ],
      "metadata": {
        "id": "p0ESuvhmya4n"
      }
    },
    {
      "cell_type": "markdown",
      "source": [
        "5.\n",
        "a."
      ],
      "metadata": {
        "id": "cFI0egQKW8tl"
      }
    },
    {
      "cell_type": "code",
      "execution_count": null,
      "metadata": {
        "colab": {
          "base_uri": "https://localhost:8080/"
        },
        "id": "JHsyYA-zqc7P",
        "outputId": "8034d8e7-0c10-43e5-958d-5e7ae21facee"
      },
      "outputs": [
        {
          "output_type": "stream",
          "name": "stdout",
          "text": [
            "notP\n"
          ]
        }
      ],
      "source": [
        "p = 'Python'\n",
        "print(p[5]+p[4]+p[2]+p[0])"
      ]
    },
    {
      "cell_type": "markdown",
      "source": [
        "b."
      ],
      "metadata": {
        "id": "i2A_RsKWW_bN"
      }
    },
    {
      "cell_type": "code",
      "source": [
        "num1 = int(input(\"Enter the first number: \"))\n",
        "num2 = int(input(\"Enter the second number: \"))\n",
        "\n",
        "add = num1+num2\n",
        "print(add)\n",
        "product = num1*num2\n",
        "print(product)\n",
        "floor_division = num1//num2\n",
        "print(floor_division)\n",
        "exponential = num1 ** num2\n",
        "print(exponential)"
      ],
      "metadata": {
        "colab": {
          "base_uri": "https://localhost:8080/"
        },
        "id": "CYZTRQnZsSaC",
        "outputId": "49ce26d8-24fb-49e5-924e-13066186269a"
      },
      "execution_count": null,
      "outputs": [
        {
          "output_type": "stream",
          "name": "stdout",
          "text": [
            "Enter the first number: 5\n",
            "Enter the second number: 6\n",
            "11\n"
          ]
        }
      ]
    },
    {
      "cell_type": "markdown",
      "source": [
        "6."
      ],
      "metadata": {
        "id": "6eEPIWMdW5Vd"
      }
    },
    {
      "cell_type": "code",
      "source": [
        "sen = input(\"Enter a sentence that uses 'python' \")\n",
        "new_sen = sen.replace(\"python\", \"pythons\")\n",
        "print(new_sen)"
      ],
      "metadata": {
        "colab": {
          "base_uri": "https://localhost:8080/"
        },
        "id": "8oWS066uxE_j",
        "outputId": "2b646d0a-7d0d-4243-97c0-d8eeb5ed2c48"
      },
      "execution_count": null,
      "outputs": [
        {
          "output_type": "stream",
          "name": "stdout",
          "text": [
            "Enter a sentence that uses 'python' python is a snake\n",
            "pythons is a snake\n"
          ]
        }
      ]
    },
    {
      "cell_type": "markdown",
      "source": [
        "7."
      ],
      "metadata": {
        "id": "zgZ5-TMhW3rJ"
      }
    },
    {
      "cell_type": "code",
      "source": [
        "score = int(input(\"Enter score: \"))\n",
        "if score > 89:\n",
        "  grade = 'A'\n",
        "elif score > 79:\n",
        "  grade = 'B'\n",
        "elif score > 69:\n",
        "  grade = 'C'\n",
        "elif score > 59:\n",
        "  grade = 'D'\n",
        "else: grade = 'F'\n",
        "print(grade)"
      ],
      "metadata": {
        "id": "mzq4iV5LyOJA",
        "colab": {
          "base_uri": "https://localhost:8080/"
        },
        "outputId": "24a9ccc6-5930-4c66-cbd7-47eefde88c06"
      },
      "execution_count": null,
      "outputs": [
        {
          "output_type": "stream",
          "name": "stdout",
          "text": [
            "Enter score: 79\n",
            "C\n"
          ]
        }
      ]
    },
    {
      "cell_type": "markdown",
      "source": [
        "8."
      ],
      "metadata": {
        "id": "uWMx34F7W1t8"
      }
    },
    {
      "cell_type": "code",
      "source": [
        "list = [23, 'Python', 23.98]\n",
        "type_list = []\n",
        "for element in list:\n",
        "  type_list.append(type(element))\n",
        "print(list)\n",
        "print(type_list)"
      ],
      "metadata": {
        "colab": {
          "base_uri": "https://localhost:8080/"
        },
        "id": "LxkUTcC2TFZ_",
        "outputId": "0334fe08-8fc9-4c8c-90e7-b32d262d4663"
      },
      "execution_count": null,
      "outputs": [
        {
          "output_type": "stream",
          "name": "stdout",
          "text": [
            "[23, 'Python', 23.98]\n",
            "[<class 'int'>, <class 'str'>, <class 'float'>]\n"
          ]
        }
      ]
    },
    {
      "cell_type": "markdown",
      "source": [
        "9."
      ],
      "metadata": {
        "id": "3sPuiS9QWV6m"
      }
    },
    {
      "cell_type": "code",
      "source": [
        "IT_companies = {'Facebook', 'Google', 'Microsoft', 'Apple', 'IBM', 'Oracle', 'Amazon'}\n",
        "A = {19, 22, 24, 20, 25, 26}\n",
        "B = {19, 22, 20, 25, 26, 24, 28, 27}\n",
        "age = [22, 19, 24, 25, 26, 24, 25, 24]\n",
        "\n",
        "print(len(IT_companies))\n",
        "\n",
        "IT_companies.add('Twitter')\n",
        "\n",
        "companies = ['Intel', 'Cisco', 'HP']\n",
        "IT_companies.update(companies)\n",
        "print(IT_companies)\n",
        "\n",
        "IT_companies.remove('Cisco')\n",
        "\n",
        "# The difference between remove and discard is that if the element is not found in the set, remove will provide an error, while discard will do nothing\n",
        "\n",
        "A_and_B = A | B\n",
        "print(A_and_B)\n",
        "\n",
        "intersection = A & B\n",
        "print(intersection)\n",
        "\n",
        "print(A.issubset(B))    # A is a subset of B\n",
        "\n",
        "print(A.isdisjoint(B))  # A and B are not disjoint\n",
        "\n",
        "difference = A.symmetric_difference(B)\n",
        "print(difference)\n",
        "\n",
        "del A\n",
        "del B\n",
        "del A_and_B\n",
        "\n",
        "print(len(age))     # length of list is 8\n",
        "age_set = set(age)\n",
        "print(len(age_set)) # length of list is 5"
      ],
      "metadata": {
        "colab": {
          "base_uri": "https://localhost:8080/"
        },
        "id": "0c0sCy_BT_oB",
        "outputId": "ff70c5ae-576c-459f-9069-13f6f7bf7e4e"
      },
      "execution_count": null,
      "outputs": [
        {
          "output_type": "stream",
          "name": "stdout",
          "text": [
            "7\n",
            "{'Twitter', 'Microsoft', 'Intel', 'Cisco', 'Google', 'IBM', 'Facebook', 'Oracle', 'Amazon', 'HP', 'Apple'}\n",
            "{19, 20, 22, 24, 25, 26, 27, 28}\n",
            "{19, 20, 22, 24, 25, 26}\n",
            "True\n",
            "False\n",
            "{27, 28}\n",
            "8\n",
            "5\n"
          ]
        }
      ]
    }
  ]
}