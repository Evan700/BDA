{
  "nbformat": 4,
  "nbformat_minor": 0,
  "metadata": {
    "colab": {
      "provenance": [],
      "authorship_tag": "ABX9TyO0tMJw0mjnlJP3Vhq/eLDP",
      "include_colab_link": true
    },
    "kernelspec": {
      "name": "python3",
      "display_name": "Python 3"
    },
    "language_info": {
      "name": "python"
    }
  },
  "cells": [
    {
      "cell_type": "markdown",
      "metadata": {
        "id": "view-in-github",
        "colab_type": "text"
      },
      "source": [
        "<a href=\"https://colab.research.google.com/github/Evan700/BDA/blob/main/ICP_2.ipynb\" target=\"_parent\"><img src=\"https://colab.research.google.com/assets/colab-badge.svg\" alt=\"Open In Colab\"/></a>"
      ]
    },
    {
      "cell_type": "markdown",
      "source": [
        "#Evan Finger"
      ],
      "metadata": {
        "id": "KP-gyVHytsKR"
      }
    },
    {
      "cell_type": "markdown",
      "source": [
        "### 1."
      ],
      "metadata": {
        "id": "pkOPbk05t4xw"
      }
    },
    {
      "cell_type": "code",
      "execution_count": null,
      "metadata": {
        "colab": {
          "base_uri": "https://localhost:8080/"
        },
        "id": "4fPWTpVbrfkj",
        "outputId": "21e0ad3b-dc10-49c4-a6d6-eef4da2c8206"
      },
      "outputs": [
        {
          "output_type": "stream",
          "name": "stdout",
          "text": [
            "Instance count: 2, Class.count: 3\n",
            "Instance count: 1, Class.count: 3\n"
          ]
        }
      ],
      "source": [
        "class Counter:\n",
        "  count = 0\n",
        "\n",
        "  def __init__(self):\n",
        "    self._count = 0\n",
        "\n",
        "  def increment(self):\n",
        "    self._count += 1\n",
        "    Counter.count += 1\n",
        "\n",
        "  def get_count(self):\n",
        "    return f\"Instance count: {self._count}, Class.count: {Counter.count}\"\n",
        "\n",
        "a=Counter()\n",
        "b=Counter()\n",
        "\n",
        "a.increment()\n",
        "a.increment()\n",
        "b.increment()\n",
        "\n",
        "print(a.get_count())\n",
        "print(b.get_count())"
      ]
    },
    {
      "cell_type": "markdown",
      "source": [
        "\n",
        "\n",
        "*   The difference is Counter.count is a class defined variable and does not distinguish between a and b whereas self._counter is able to distinguish between a and b and incriments seperately since it is an instance variable.\n",
        "*   a.get_count(): Instance count: 2, Class.count: 3\n",
        "b.get_count(): Instance count: 1, Class.count: 3\n",
        "*   The increment method incriments both variables, it just incriments the instance variables seperately and incriments the class variable at the same time.\n",
        "\n",
        "\n",
        "\n",
        "\n"
      ],
      "metadata": {
        "id": "BKAw6clGuMA_"
      }
    },
    {
      "cell_type": "markdown",
      "source": [
        "### 2."
      ],
      "metadata": {
        "id": "sseeX0oQxW1V"
      }
    },
    {
      "cell_type": "code",
      "source": [
        "def sum_all(*args):\n",
        "  return sum(args)\n",
        "\n",
        "print(\"Sum of 1, 2, 3 is:\", sum_all(1, 2, 3))\n",
        "print(\"Sum of 4, 5, 6, 7 is:\", sum_all(4, 5, 6, 7))\n"
      ],
      "metadata": {
        "colab": {
          "base_uri": "https://localhost:8080/"
        },
        "id": "SlycmIKcxbru",
        "outputId": "31bfe65d-1a6a-4cbf-b9eb-60b092e8a4af"
      },
      "execution_count": null,
      "outputs": [
        {
          "output_type": "stream",
          "name": "stdout",
          "text": [
            "Sum of 1, 2, 3 is: 6\n",
            "Sum of 4, 5, 6, 7 is: 22\n"
          ]
        }
      ]
    },
    {
      "cell_type": "markdown",
      "source": [
        "### 3."
      ],
      "metadata": {
        "id": "Zfq1AJN0yhbO"
      }
    },
    {
      "cell_type": "code",
      "source": [
        "students = ['Mary', 'Zelda', 'Jimmy', 'Jack', 'Bartholomew', 'Gertrude']\n",
        "def first_word(arg):\n",
        "  arg.sort()\n",
        "  return arg[0]\n",
        "\n",
        "print(first_word(students))"
      ],
      "metadata": {
        "colab": {
          "base_uri": "https://localhost:8080/"
        },
        "id": "_NOvHl9syksu",
        "outputId": "aae13195-7e2d-44fb-9cb1-adb6aca76d03"
      },
      "execution_count": 10,
      "outputs": [
        {
          "output_type": "stream",
          "name": "stdout",
          "text": [
            "Bartholomew\n"
          ]
        }
      ]
    },
    {
      "cell_type": "markdown",
      "source": [
        "### 4."
      ],
      "metadata": {
        "id": "Mo2_3z430OpQ"
      }
    },
    {
      "cell_type": "code",
      "source": [
        "class Employee:\n",
        "  employee_count = 0\n",
        "  total_salary = 0\n",
        "  def __init__(self, name, family, salary, department):\n",
        "    self.name = name\n",
        "    self.family = family\n",
        "    self.salary = salary\n",
        "    self.department = department\n",
        "\n",
        "    Employee.employee_count += 1\n",
        "    Employee.total_salary += self.salary\n",
        "\n",
        "  @classmethod\n",
        "  def average_salary(cls):\n",
        "        if cls.employee_count == 0:\n",
        "            return 0\n",
        "        return cls.total_salary / cls.employee_count\n",
        "\n",
        "class FulltimeEmployee(Employee):\n",
        "    def __init__(self, name, family, salary, department):\n",
        "        super().__init__(name, family, salary, department)\n",
        "\n",
        "\n",
        "\n",
        "employee1 = FulltimeEmployee(\"John Doe\", \"Doe Family\", 50000, \"Engineering\")\n",
        "employee2 = FulltimeEmployee(\"Jane Smith\", \"Smith Family\", 60000, \"Marketing\")\n",
        "employee3 = Employee(\"Emily Davis\", \"Davis Family\", 55000, \"HR\")\n",
        "\n",
        "\n",
        "print(\"Employee 1 Family: \", employee1.family)\n",
        "print(\"Employee 2 name: \", employee2.name)\n",
        "print(\"Employee 3 Department: \", employee3.department)\n",
        "\n",
        "print(\"Employee count: \", Employee.employee_count)\n",
        "\n",
        "print(\"Average salary of employees:\", Employee.average_salary())"
      ],
      "metadata": {
        "id": "N9gLRvdq0ReH",
        "colab": {
          "base_uri": "https://localhost:8080/"
        },
        "outputId": "81b7866d-742f-4bda-f9d8-4da382b1baaf"
      },
      "execution_count": 9,
      "outputs": [
        {
          "output_type": "stream",
          "name": "stdout",
          "text": [
            "Employee 1 Family:  Doe Family\n",
            "Employee 2 name:  Jane Smith\n",
            "Employee 3 Department:  HR\n",
            "Employee count:  3\n",
            "Average salary of employees: 55000.0\n"
          ]
        }
      ]
    }
  ]
}