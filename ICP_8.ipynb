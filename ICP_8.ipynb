{
  "nbformat": 4,
  "nbformat_minor": 0,
  "metadata": {
    "colab": {
      "provenance": [],
      "mount_file_id": "1YaRkTpsIFE248C6-qvSnbphhnU04LIXx",
      "authorship_tag": "ABX9TyNe5OjAC0NlVBHPuXGWkHJ+",
      "include_colab_link": true
    },
    "kernelspec": {
      "name": "python3",
      "display_name": "Python 3"
    },
    "language_info": {
      "name": "python"
    }
  },
  "cells": [
    {
      "cell_type": "markdown",
      "metadata": {
        "id": "view-in-github",
        "colab_type": "text"
      },
      "source": [
        "<a href=\"https://colab.research.google.com/github/Evan700/BDA/blob/main/ICP_8.ipynb\" target=\"_parent\"><img src=\"https://colab.research.google.com/assets/colab-badge.svg\" alt=\"Open In Colab\"/></a>"
      ]
    },
    {
      "cell_type": "markdown",
      "source": [
        "#ICP 8 Evan Finger"
      ],
      "metadata": {
        "id": "tdI-5DKv-i6p"
      }
    },
    {
      "cell_type": "code",
      "source": [
        "from pyspark import SparkContext, SparkConf\n",
        "from pyspark.sql import SparkSession\n",
        "spark = SparkSession.builder.appName(\"RDDExample\").getOrCreate()"
      ],
      "metadata": {
        "id": "voVY3snmdjrM"
      },
      "execution_count": 4,
      "outputs": []
    },
    {
      "cell_type": "markdown",
      "source": [
        "##1."
      ],
      "metadata": {
        "id": "HLPWzIX9czlf"
      }
    },
    {
      "cell_type": "code",
      "execution_count": 5,
      "metadata": {
        "colab": {
          "base_uri": "https://localhost:8080/"
        },
        "id": "10kppyYfcvap",
        "outputId": "a66d90c8-45c1-4f97-a24b-50aedb3d40c1"
      },
      "outputs": [
        {
          "output_type": "stream",
          "name": "stdout",
          "text": [
            "[1, 2, 3, 4, 5, 6, 7, 8, 9, 10, 11, 12, 13, 14, 15]\n"
          ]
        }
      ],
      "source": [
        "numbers = list(range(1, 16))\n",
        "rdd = spark.sparkContext.parallelize(numbers)\n",
        "\n",
        "result = rdd.collect()\n",
        "print(result)"
      ]
    },
    {
      "cell_type": "markdown",
      "source": [
        "##2."
      ],
      "metadata": {
        "id": "3sI6RZU2c3L5"
      }
    },
    {
      "cell_type": "code",
      "source": [
        "elements = rdd.collect()\n",
        "print(\"Elements: \", elements)\n",
        "partitions = rdd.getNumPartitions()\n",
        "print(\"Number of Partitions: \", partitions)"
      ],
      "metadata": {
        "colab": {
          "base_uri": "https://localhost:8080/"
        },
        "id": "udL6ZtdkdNRJ",
        "outputId": "de82c584-5cdc-4d94-8d3c-72964cd5127f"
      },
      "execution_count": 6,
      "outputs": [
        {
          "output_type": "stream",
          "name": "stdout",
          "text": [
            "Elements:  [1, 2, 3, 4, 5, 6, 7, 8, 9, 10, 11, 12, 13, 14, 15]\n",
            "Number of Partitions:  2\n"
          ]
        }
      ]
    },
    {
      "cell_type": "markdown",
      "source": [
        "##3."
      ],
      "metadata": {
        "id": "js4R_s1Zc4ud"
      }
    },
    {
      "cell_type": "code",
      "source": [
        "first_element = rdd.first()\n",
        "print(\"First Element: \", first_element)"
      ],
      "metadata": {
        "colab": {
          "base_uri": "https://localhost:8080/"
        },
        "id": "_VyOTyNLdNuV",
        "outputId": "54a5ed8b-e782-4c75-bd45-2f227a5205ee"
      },
      "execution_count": 7,
      "outputs": [
        {
          "output_type": "stream",
          "name": "stdout",
          "text": [
            "First Element:  1\n"
          ]
        }
      ]
    },
    {
      "cell_type": "markdown",
      "source": [
        "##4."
      ],
      "metadata": {
        "id": "ZI5fjwegc6WR"
      }
    },
    {
      "cell_type": "code",
      "source": [
        "even_numbers = rdd.filter(lambda x: x % 2 == 0)\n",
        "even_numbers_list = even_numbers.collect()\n",
        "print(\"Even Numbers: \", even_numbers_list)"
      ],
      "metadata": {
        "colab": {
          "base_uri": "https://localhost:8080/"
        },
        "id": "EKS6UxzndOVJ",
        "outputId": "89fe6f08-7779-42a1-d4c9-9e6becbdf1a2"
      },
      "execution_count": 8,
      "outputs": [
        {
          "output_type": "stream",
          "name": "stdout",
          "text": [
            "Even Numbers:  [2, 4, 6, 8, 10, 12, 14]\n"
          ]
        }
      ]
    },
    {
      "cell_type": "markdown",
      "source": [
        "##5."
      ],
      "metadata": {
        "id": "tgNgoAO_c8Uw"
      }
    },
    {
      "cell_type": "code",
      "source": [
        "squared_numbers = rdd.map(lambda x: x ** 2)\n",
        "squared_numbers_list = squared_numbers.collect()\n",
        "print(\"Squared Numbers: \", squared_numbers_list)"
      ],
      "metadata": {
        "colab": {
          "base_uri": "https://localhost:8080/"
        },
        "id": "6hlOKMeMdO5E",
        "outputId": "61d0fb4e-d214-4089-c87e-3b2ef79d312a"
      },
      "execution_count": 9,
      "outputs": [
        {
          "output_type": "stream",
          "name": "stdout",
          "text": [
            "Squared Numbers:  [1, 4, 9, 16, 25, 36, 49, 64, 81, 100, 121, 144, 169, 196, 225]\n"
          ]
        }
      ]
    },
    {
      "cell_type": "markdown",
      "source": [
        "##6."
      ],
      "metadata": {
        "id": "HSBFFZqhc-B2"
      }
    },
    {
      "cell_type": "code",
      "source": [
        "total_sum = rdd.reduce(lambda x, y: x + y)\n",
        "print(\"Total Sum: \", total_sum)"
      ],
      "metadata": {
        "colab": {
          "base_uri": "https://localhost:8080/"
        },
        "id": "U9Ja3IUMdPWF",
        "outputId": "c61ba369-dbb7-4d7e-f0d4-56580ff1499d"
      },
      "execution_count": 10,
      "outputs": [
        {
          "output_type": "stream",
          "name": "stdout",
          "text": [
            "Total Sum:  120\n"
          ]
        }
      ]
    },
    {
      "cell_type": "markdown",
      "source": [
        "##7."
      ],
      "metadata": {
        "id": "uBaMnozUc_Rl"
      }
    },
    {
      "cell_type": "code",
      "source": [
        "output_path = \"home/output.txt\"\n",
        "rdd.saveAsTextFile(output_path)\n",
        "print(\"RDD saved to\", output_path)"
      ],
      "metadata": {
        "colab": {
          "base_uri": "https://localhost:8080/"
        },
        "id": "9m8n5Vi0dP2q",
        "outputId": "7617b097-d5be-46b4-ee01-042cad4b1188"
      },
      "execution_count": 11,
      "outputs": [
        {
          "output_type": "stream",
          "name": "stdout",
          "text": [
            "RDD saved to home/output.txt\n"
          ]
        }
      ]
    },
    {
      "cell_type": "markdown",
      "source": [
        "##8."
      ],
      "metadata": {
        "id": "QKhi5hcHdAbo"
      }
    },
    {
      "cell_type": "code",
      "source": [
        "list1 = [1, 2, 3, 4, 5]\n",
        "list2 = [3, 4, 5, 6, 7]\n",
        "rdd1 = spark.sparkContext.parallelize(list1)\n",
        "rdd2 = spark.sparkContext.parallelize(list2)\n",
        "union_rdd = rdd1.union(rdd2)\n",
        "union_list = union_rdd.collect()\n",
        "print(\"Union: \", union_list)"
      ],
      "metadata": {
        "colab": {
          "base_uri": "https://localhost:8080/"
        },
        "id": "Fvv46JpIdQLJ",
        "outputId": "945d1d00-2760-4777-cfcf-a0057f644fcb"
      },
      "execution_count": 12,
      "outputs": [
        {
          "output_type": "stream",
          "name": "stdout",
          "text": [
            "Union:  [1, 2, 3, 4, 5, 3, 4, 5, 6, 7]\n"
          ]
        }
      ]
    },
    {
      "cell_type": "markdown",
      "source": [
        "##9."
      ],
      "metadata": {
        "id": "kVoIiXO8dBv4"
      }
    },
    {
      "cell_type": "code",
      "source": [
        "list3 = [1,2,3]\n",
        "list4 = ['a', 'b', 'c']\n",
        "rdd3 = spark.sparkContext.parallelize(list3)\n",
        "rdd4 = spark.sparkContext.parallelize(list4)\n",
        "cartesian_rdd = rdd3.cartesian(rdd4)\n",
        "cartesian_list = cartesian_rdd.collect()\n",
        "print(\"Cartesian Product: \", cartesian_list)"
      ],
      "metadata": {
        "colab": {
          "base_uri": "https://localhost:8080/"
        },
        "id": "Oao0FzKMdQh9",
        "outputId": "211ebebf-ffa4-418e-86e9-0e8e3b8e43e9"
      },
      "execution_count": 13,
      "outputs": [
        {
          "output_type": "stream",
          "name": "stdout",
          "text": [
            "Cartesian Product:  [(1, 'a'), (1, 'b'), (1, 'c'), (2, 'a'), (3, 'a'), (2, 'b'), (2, 'c'), (3, 'b'), (3, 'c')]\n"
          ]
        }
      ]
    },
    {
      "cell_type": "markdown",
      "source": [
        "##10."
      ],
      "metadata": {
        "id": "ANrZ1a5zdDCk"
      }
    },
    {
      "cell_type": "code",
      "source": [
        "data = [{\"id\": 1, \"name\": \"Anne\", \"age\": 23},\n",
        "        {\"id\": 2, \"name\": \"Bill\", \"age\": 25},\n",
        "        {\"id\": 3, \"name\": \"Evan\", \"age\": 22}]\n",
        "dict_rdd = spark.sparkContext.parallelize(data)\n",
        "result = dict_rdd.collect()\n",
        "print(\"RDD with dictionary: \", result)"
      ],
      "metadata": {
        "colab": {
          "base_uri": "https://localhost:8080/"
        },
        "id": "UMw6K6GjdRNJ",
        "outputId": "7366eba2-8bcc-4321-c6ac-0d1b975baa1f"
      },
      "execution_count": 14,
      "outputs": [
        {
          "output_type": "stream",
          "name": "stdout",
          "text": [
            "RDD with dictionary:  [{'id': 1, 'name': 'Anne', 'age': 23}, {'id': 2, 'name': 'Bill', 'age': 25}, {'id': 3, 'name': 'Evan', 'age': 22}]\n"
          ]
        }
      ]
    },
    {
      "cell_type": "markdown",
      "source": [
        "##11."
      ],
      "metadata": {
        "id": "ECXOVxuUdENE"
      }
    },
    {
      "cell_type": "code",
      "source": [
        "data = [1, 2, 3, 2, 1, 4, 5, 6, 4, 4, 7, 8, 7, 9, 1]\n",
        "rdd = spark.sparkContext.parallelize(data)\n",
        "mapped_rdd = rdd.map(lambda x: (x, 1))\n",
        "reduced_rdd = mapped_rdd.reduceByKey(lambda x, y: x + y)\n",
        "result = reduced_rdd.collect()\n",
        "print(\"Unique values and counts:\", result)"
      ],
      "metadata": {
        "colab": {
          "base_uri": "https://localhost:8080/"
        },
        "id": "wquaruTSdRxZ",
        "outputId": "a024c372-a7f0-40fa-fcea-3742d3e5bd56"
      },
      "execution_count": 16,
      "outputs": [
        {
          "output_type": "stream",
          "name": "stdout",
          "text": [
            "Unique values and counts: [(2, 2), (4, 3), (6, 1), (8, 1), (1, 3), (3, 1), (5, 1), (7, 2), (9, 1)]\n"
          ]
        }
      ]
    },
    {
      "cell_type": "markdown",
      "source": [
        "##12."
      ],
      "metadata": {
        "id": "7_fGs_8EdGHU"
      }
    },
    {
      "cell_type": "code",
      "source": [
        "input_path1 = \"/text1.txt\"\n",
        "input_path2 = \"/text2.txt\"\n",
        "rdd1 = spark.sparkContext.textFile(input_path1)\n",
        "rdd2 = spark.sparkContext.textFile(input_path2)\n",
        "union_rdd = rdd1.union(rdd2)\n",
        "result = union_rdd.collect()\n",
        "print(\"RDD from multiple text files:\", result)"
      ],
      "metadata": {
        "colab": {
          "base_uri": "https://localhost:8080/"
        },
        "id": "zBp9qS7vdSoi",
        "outputId": "adef43de-1d53-45d8-c3ac-67390e9d86ac"
      },
      "execution_count": 17,
      "outputs": [
        {
          "output_type": "stream",
          "name": "stdout",
          "text": [
            "RDD from multiple text files: ['1, 2, 3', '3, 4, 5']\n"
          ]
        }
      ]
    },
    {
      "cell_type": "markdown",
      "source": [
        "##13."
      ],
      "metadata": {
        "id": "nQgHe1wQdHvp"
      }
    },
    {
      "cell_type": "code",
      "source": [
        "numbers = list(range(1, 16))\n",
        "rdd = spark.sparkContext.parallelize(numbers)\n",
        "result = rdd.take(5)\n",
        "print(\"First 5 lines:\", result)"
      ],
      "metadata": {
        "colab": {
          "base_uri": "https://localhost:8080/"
        },
        "id": "zFhYof6udS9x",
        "outputId": "03df212c-ab05-4859-e59a-77f99185ab28"
      },
      "execution_count": 19,
      "outputs": [
        {
          "output_type": "stream",
          "name": "stdout",
          "text": [
            "First 5 lines: [1, 2, 3, 4, 5]\n"
          ]
        }
      ]
    },
    {
      "cell_type": "markdown",
      "source": [
        "##14."
      ],
      "metadata": {
        "id": "AqArOLupdI3U"
      }
    },
    {
      "cell_type": "code",
      "source": [
        "from pyspark.sql import Row\n",
        "data = [\n",
        "        Row(id= 1, name= \"Anne\", age= 23),\n",
        "        Row(id= 2, name= \"Bill\", age= 25),\n",
        "        Row(id= 3, name= \"Evan\", age= 22)\n",
        "        ]\n",
        "df = spark.createDataFrame(data)\n",
        "df.show()\n",
        "\n"
      ],
      "metadata": {
        "colab": {
          "base_uri": "https://localhost:8080/"
        },
        "id": "A75ecjbMdTUk",
        "outputId": "461c7496-9973-4ae0-ab6a-f8e8c25e3a4f"
      },
      "execution_count": 24,
      "outputs": [
        {
          "output_type": "stream",
          "name": "stdout",
          "text": [
            "+---+----+---+\n",
            "| id|name|age|\n",
            "+---+----+---+\n",
            "|  1|Anne| 23|\n",
            "|  2|Bill| 25|\n",
            "|  3|Evan| 22|\n",
            "+---+----+---+\n",
            "\n"
          ]
        }
      ]
    },
    {
      "cell_type": "markdown",
      "source": [
        "Per the slides, datasets are not supported in python so you cannot make one in collab"
      ],
      "metadata": {
        "id": "z-eEJGg49AJQ"
      }
    },
    {
      "cell_type": "markdown",
      "source": [
        "##15."
      ],
      "metadata": {
        "id": "FsTM4L23dKlR"
      }
    },
    {
      "cell_type": "code",
      "source": [
        "data = [(1, \"Anne\", 23), (2, \"Bill\", 25), (3, \"Evan\", 22)]\n",
        "rdd = spark.sparkContext.parallelize(data)\n",
        "print(\"Rdd elements: \", rdd.collect())\n",
        "ages_rdd = rdd.map(lambda x: x[2])\n",
        "print(\"Ages Rdd: \", ages_rdd.collect())\n",
        "\n",
        "columns = [\"id\", \"name\", \"age\"]\n",
        "df = rdd.toDF(columns)\n",
        "df.show()\n",
        "df_filtered = df.filter(df[\"age\"] > 23)\n",
        "df_filtered.show()"
      ],
      "metadata": {
        "colab": {
          "base_uri": "https://localhost:8080/"
        },
        "id": "RGehUBIodTy1",
        "outputId": "3f9fa68b-232b-44a5-d34b-28841e6c14e5"
      },
      "execution_count": 26,
      "outputs": [
        {
          "output_type": "stream",
          "name": "stdout",
          "text": [
            "Rdd elements:  [(1, 'Anne', 23), (2, 'Bill', 25), (3, 'Evan', 22)]\n",
            "Ages Rdd:  [23, 25, 22]\n",
            "+---+----+---+\n",
            "| id|name|age|\n",
            "+---+----+---+\n",
            "|  1|Anne| 23|\n",
            "|  2|Bill| 25|\n",
            "|  3|Evan| 22|\n",
            "+---+----+---+\n",
            "\n",
            "+---+----+---+\n",
            "| id|name|age|\n",
            "+---+----+---+\n",
            "|  2|Bill| 25|\n",
            "+---+----+---+\n",
            "\n"
          ]
        }
      ]
    },
    {
      "cell_type": "markdown",
      "source": [
        "Once again datasets are not supported by python and are only supported in java or scala"
      ],
      "metadata": {
        "id": "vUB7Mf87-Uvb"
      }
    }
  ]
}